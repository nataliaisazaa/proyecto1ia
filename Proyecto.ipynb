{
 "cells": [
  {
   "cell_type": "markdown",
   "metadata": {},
   "source": [
    "# INTELIGENCIA ARTIFICIAL\n",
    "\n",
    "## PROYECTO 6: Clasificador de Plantas.\n",
    "\n",
    "### Integrantes: \n",
    "- Juan David Cardona Molina.\n",
    "- Natalia Isaza\n",
    "- Santiago Giraldo.\n",
    "\n",
    "### Breve Introducción:\n",
    "Este programa esta diseñado para el reconocimiento de plantas mediante captura de vídeo.\n",
    "\n",
    "El entrenamiento usado se hizo mediante las herramientas por defecto del OpenCV.\n",
    "\n",
    "Opencv_createsamples para el conjunto de imágenes positivas (Imágenes que contenan plantas), este programa creará un archivo de vector.\n",
    "\n",
    "Opencv_traincascade el entrenamiento, usando el vector creado por el opencv_createsamples y el conjunto de imágenes negativas, dando como resultado, un archivo .xml de entrenamiento.\n",
    "\n",
    "Una vez hecho lo anterior, se carga con el clasificador que trae la librería cv2 de Opencv para python."
   ]
  },
  {
   "cell_type": "code",
   "execution_count": 10,
   "metadata": {},
   "outputs": [],
   "source": [
    "# LIBRERÍAS\n",
    "import numpy as np # Importamos la librería numpy con alias np.\n",
    "import cv2 as cv # Importamos la librería cv2 con alias cv.\n",
    "\n",
    "# CUERPO DEL PROGRAMA\n",
    "def cargar_entrenamiento():\n",
    "    entrenamiento = cv.CascadeClassifier('cascade.xml') # Cargamos el entrenamiento.\n",
    "    return entrenamiento\n",
    "    \n",
    "def reconocimiento():    \n",
    "    entrenamiento = cargar_entrenamiento() # Guardo lo que retorne la función entrenamiento.\n",
    "    \n",
    "    captura = cv.VideoCapture(0) # Inicializamos la captura de vídeo.\n",
    "    # captura = cv.VideoCapture(0) - Para abrir Camara.\n",
    "\n",
    "    while(True):\n",
    "        ret, imagen = captura.read() # Leemos lo que hay en la variable captura y lo guardamos en dos variables.\n",
    "        gris = cv.cvtColor(imagen, cv.COLOR_BGR2GRAY) # Convertimos la imagen a blanco y negro.\n",
    "        plantas = entrenamiento.detectMultiScale(gris, 1.3, 5) # Buscamos las coordenadas y guardamos su posición.\n",
    "\n",
    "        for (posicion_x,posicion_y,ancho,largo) in plantas:\n",
    "            cv.rectangle(imagen,(posicion_x,posicion_y),(posicion_x+ancho,posicion_y+largo),(125,255,0),2) # Crea un rectangulo en las coordenadas.\n",
    "\n",
    "        cv.imshow('img',imagen) # Mostramos la imagen.\n",
    "\n",
    "        if cv.waitKey(1) & 0xFF == ord('e'): # Con la tecla E cerramos el programa.\n",
    "            break\n",
    "\n",
    "    captura.release()\n",
    "    cv.destroyAllWindows()\n",
    "\n",
    "def main():\n",
    "    reconocimiento() # Llamando la función del reconocimiento de plantas."
   ]
  },
  {
   "cell_type": "code",
   "execution_count": 9,
   "metadata": {},
   "outputs": [],
   "source": [
    "if __name__ == '__main__':\n",
    "    main()"
   ]
  }
 ],
 "metadata": {
  "kernelspec": {
   "display_name": "Python 3",
   "language": "python",
   "name": "python3"
  },
  "language_info": {
   "codemirror_mode": {
    "name": "ipython",
    "version": 3
   },
   "file_extension": ".py",
   "mimetype": "text/x-python",
   "name": "python",
   "nbconvert_exporter": "python",
   "pygments_lexer": "ipython3",
   "version": "3.6.4"
  }
 },
 "nbformat": 4,
 "nbformat_minor": 2
}
